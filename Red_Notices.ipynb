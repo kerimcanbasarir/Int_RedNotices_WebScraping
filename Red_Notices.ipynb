{
 "cells": [
  {
   "cell_type": "code",
   "execution_count": 218,
   "metadata": {},
   "outputs": [],
   "source": [
    "import requests\n",
    "from bs4 import BeautifulSoup\n",
    "import pandas as pd\n",
    "import psycopg2\n"
   ]
  },
  {
   "cell_type": "code",
   "execution_count": 219,
   "metadata": {},
   "outputs": [],
   "source": [
    "DB_NAME = \"redNotices_db\"\n",
    "DB_USER = \"postgres\"\n",
    "DB_PASSWORD = \"root\"\n",
    "DB_HOST = \"localhost\"\n",
    "DB_PORT = \"5432\""
   ]
  },
  {
   "cell_type": "code",
   "execution_count": 220,
   "metadata": {},
   "outputs": [],
   "source": [
    "con = psycopg2.connect(\n",
    "    dbname=DB_NAME,\n",
    "    user=DB_USER,\n",
    "    password=DB_PASSWORD,\n",
    "    host=DB_HOST,\n",
    "    port = DB_PORT\n",
    ")\n",
    "con.autocommit = True\n",
    "cursor = con.cursor()"
   ]
  },
  {
   "cell_type": "code",
   "execution_count": 221,
   "metadata": {},
   "outputs": [],
   "source": [
    "query_create_table = \"\"\" CREATE TABLE IF NOT EXISTS wanted_persons(\n",
    "    entity_id TEXT PRIMARY KEY,\n",
    "    name TEXT NOT NULL,\n",
    "    forename TEXT NOT NULL,\n",
    "    date_of_birth TEXT NOT NULL,\n",
    "    sex_id TEXT NOT NULL,\n",
    "    place_of_birth TEXT,\n",
    "    weight TEXT\n",
    "    );\n",
    "    \"\"\"\n",
    "cursor.execute(query_create_table)"
   ]
  },
  {
   "cell_type": "code",
   "execution_count": 222,
   "metadata": {},
   "outputs": [],
   "source": [
    "def add_db_person(entity_id, name, forename, date_of_birth, sex_id, place_of_birth, weight):\n",
    "    query_INSERT = f\"INSERT INTO suclular (entity_id, name, forename, date_of_birth, sex_id, place_of_birth, weight) SELECT '{entity_id}', '{name}', '{forename}', '{date_of_birth}', '{sex_id}', '{place_of_birth}', '{weight}' WHERE NOT EXISTS ( SELECT * FROM wanted_persons WHERE entity_id='{entity_id}' and name='{name}' and forename='{forename}' and date_of_birth='{date_of_birth}' and sex_id='{sex_id}' and place_of_birth='{place_of_birth}' and weight='{weight}');\"\n",
    "    cursor.execute(query_INSERT)"
   ]
  },
  {
   "cell_type": "code",
   "execution_count": 223,
   "metadata": {},
   "outputs": [],
   "source": [
    "headers = {\n",
    "    'authority': 'ws-public.interpol.int',\n",
    "    'accept': '*/*',\n",
    "    'accept-language': 'tr,en-US;q=0.9,en;q=0.8,vi;q=0.7,fr;q=0.6',\n",
    "    'origin': 'https://www.interpol.int',\n",
    "    'referer': 'https://www.interpol.int/',\n",
    "    'sec-ch-ua': '\".Not/A)Brand\";v=\"99\", \"Google Chrome\";v=\"103\", \"Chromium\";v=\"103\"',\n",
    "    'sec-ch-ua-mobile': '?0',\n",
    "    'sec-ch-ua-platform': '\"Windows\"',\n",
    "    'sec-fetch-dest': 'empty',\n",
    "    'sec-fetch-mode': 'cors',\n",
    "    'sec-fetch-site': 'same-site',\n",
    "    'user-agent': 'Mozilla/5.0 (Windows NT 10.0; Win64; x64) AppleWebKit/537.36 (KHTML, like Gecko) Chrome/103.0.0.0 Safari/537.36',\n",
    "}"
   ]
  },
  {
   "cell_type": "code",
   "execution_count": null,
   "metadata": {},
   "outputs": [],
   "source": [
    "\n",
    "\n",
    "for page_numb in range(9):\n",
    "    response = requests.get(f'https://ws-public.interpol.int/notices/v1/red?resultPerPage=20&page={page_numb}', headers=headers)\n",
    "\n",
    "    datas = response.json()\n",
    "\n",
    "    # json dosyasındaki _embedded ve notices'in içerisine girdim.\n",
    "    ad = datas[\"_embedded\"][\"notices\"]\n",
    "\n",
    "    # her sayfada 20 suçlu alınıyor \n",
    "    for i in range(20):\n",
    "        #her suçlu loop'unda entity_id alınıp suçlu sayfasının url'i oluşturuluyor\n",
    "        entity_id = ad[i]['entity_id'].replace(\"/\", \"-\")\n",
    "\n",
    "        # suçlu sayfası için istek gönderiliyor\n",
    "        url = requests.get(\"https://ws-public.interpol.int/notices/v1/red/\" + entity_id)\n",
    "\n",
    "        # json formatına döndürülüyor\n",
    "        persons = url.json()\n",
    "        #kişilerin bilgileri alınıyor\n",
    "\n",
    "        wanted_persons = {\n",
    "            \"name\" : persons['name'],\n",
    "            \"forename\": persons['forename'],\n",
    "            \"weight\" : persons['weight'],\n",
    "            \"date_of_birth\" : persons['date_of_birth'],\n",
    "            \"entity_id\" : persons['entity_id'],\n",
    "            \"languages_spoken_ids\" : persons['languages_spoken_ids'],\n",
    "            \"nationalities\" : persons['nationalities'],\n",
    "            \"sex_id\" : persons['sex_id'],\n",
    "            \"country_of_birth_id\" : persons['country_of_birth_id'],\n",
    "            \"distinguishing_marks\" : persons['distinguishing_marks'],\n",
    "            \"eyes_colors_id\" : persons['eyes_colors_id'],\n",
    "            \"hairs_id\" : persons['hairs_id'],\n",
    "            \"place_of_birth\" : persons['place_of_birth']\n",
    "             }\n",
    "        \n",
    "\n",
    "        print(wanted_persons[\"name\"], wanted_persons[\"forename\"], wanted_persons[\"date_of_birth\"], wanted_persons[\"entity_id\"], wanted_persons[\"sex_id\"])\n",
    "\n",
    "        add_db_person(wanted_persons[\"entity_id\"],wanted_persons[\"name\"], wanted_persons[\"forename\"], wanted_persons[\"date_of_birth\"], wanted_persons[\"sex_id\"], wanted_persons[\"place_of_birth\"], wanted_persons[\"weight\"])\n"
   ]
  }
 ],
 "metadata": {
  "kernelspec": {
   "display_name": "Python 3.9.7 ('base')",
   "language": "python",
   "name": "python3"
  },
  "language_info": {
   "codemirror_mode": {
    "name": "ipython",
    "version": 3
   },
   "file_extension": ".py",
   "mimetype": "text/x-python",
   "name": "python",
   "nbconvert_exporter": "python",
   "pygments_lexer": "ipython3",
   "version": "3.9.7"
  },
  "orig_nbformat": 4,
  "vscode": {
   "interpreter": {
    "hash": "b1bcfe3d0c7c1eaf9a383e802cff973b3b30ca64cd73856fac660ea40304eaf4"
   }
  }
 },
 "nbformat": 4,
 "nbformat_minor": 2
}
